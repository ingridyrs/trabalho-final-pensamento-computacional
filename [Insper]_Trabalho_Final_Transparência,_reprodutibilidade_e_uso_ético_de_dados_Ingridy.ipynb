{
  "nbformat": 4,
  "nbformat_minor": 0,
  "metadata": {
    "colab": {
      "name": "[Insper] Trabalho Final Transparência, reprodutibilidade e uso ético de dados Ingridy.ipynb",
      "provenance": [],
      "authorship_tag": "ABX9TyPxkBalykQ8QY33w6xVZp0T"
    },
    "kernelspec": {
      "name": "python3",
      "display_name": "Python 3"
    },
    "language_info": {
      "name": "python"
    }
  },
  "cells": [
    {
      "cell_type": "markdown",
      "metadata": {
        "id": "fkLiF4Fr6K7h"
      },
      "source": [
        "#Trabalho de Pensamento Computacional & Transparência, Reprodutibilidade e Uso Ético de Dados\n",
        "\n",
        "*Aluna:* Ingridy Rayane da Silva\n",
        "\n",
        "O site escolhido para o trabalho foi o **Domínio Público** ( http://www.dominiopublico.gov.br/pesquisa/PesquisaObraForm.jsp ) , uma biblioteca digital que reúne obras de livre acesso.\n",
        "\n",
        "O programa a seguir visa visitar, extrair, limpar e exportar dados de todas as obras em domínio público no tipo de mídia \"Som\" no idioma \"Português\"."
      ]
    },
    {
      "cell_type": "code",
      "metadata": {
        "id": "pzXP6DjV6BKp"
      },
      "source": [
        "from urllib.request import urlopen #extrair html da página\n",
        "\n",
        "url =\"http://www.dominiopublico.gov.br/pesquisa/ResultadoPesquisaObraForm.do?first=1000&skip=0&ds_titulo=&co_autor=&no_autor=&co_categoria=&pagina=1&select_action=Submit&co_midia=3&co_obra=&co_idioma=1&colunaOrdenar=null&ordem=null\"\n",
        "resposta = urlopen(url)\n",
        "html = resposta.read().decode(\"iso-8859-1\")\n",
        "print(html) #conferir html"
      ],
      "execution_count": 1,
      "outputs": []
    },
    {
      "cell_type": "code",
      "metadata": {
        "id": "YXUn-CESHrQ-",
        "colab": {
          "base_uri": "https://localhost:8080/",
          "height": 171
        },
        "outputId": "79936d6e-7435-45f4-f6cb-f105f8855e79"
      },
      "source": [
        "partes = html.split(\".</td>\\n<td> <a href='../pesquisa/DetalheObraForm.do?select_action=&co_obra=\") #separar parte do html onde começa o link da obra.\n",
        "partes[-1] #verificar as partes criadas e conferir se a informação desejada está contida no resultado"
      ],
      "execution_count": 5,
      "outputs": [
        {
          "output_type": "execute_result",
          "data": {
            "application/vnd.google.colaboratory.intrinsic+json": {
              "type": "string"
            },
            "text/plain": [
              "'60667\\' STYLE=\\'cursor:hand\\'> <img src=\\'../img/icones/Som.gif\\' border=\\'0\\'></a> </td>\\n<td> <a href=\\'../pesquisa/DetalheObraForm.do?select_action=&co_obra=60667\\' target=\\'_blank\\' STYLE=\\'cursor:hand\\'>\\r\\n          África na sala de aula\\r\\n          </a> </td>\\n<td>Ministério da Educação</td>\\n<td>[me] Ministério da Educação</td>\\n<td align=\"center\">.mp3</td>\\n<td align=\"right\">\\r\\n          \\r\\n            \\r\\n            \\r\\n              26,00\\r\\n              MB\\r\\n          \\r\\n        </td>\\n<td align=\"right\">\\r\\n\\t\\t  1.103\\r\\n        </td></tr></tbody></table>\\r\\n    </td>\\r\\n    <td width=\"20\">&nbsp;</td>\\r\\n  </tr>\\r\\n  <tr>\\r\\n  \\t <td width=\"54\">&nbsp;</td>\\r\\n\\t<td>\\r\\n\\t\\t<center>\\r\\n\\t\\t<span class=\"pagebanner\">\\r\\n\\t\\t\\t\\r\\n\\t\\t\\t\\t\\t686 Itens encontrados mostrando \\r\\n\\t\\t\\t\\t\\t1 até 1000\\r\\n\\t\\t\\t\\t\\t</span>\\r\\n\\t\\t\\t\\t\\t<span class=\"pagelinks\">\\r\\n\\t\\t\\t[<a href=\\'ResultadoPesquisaObraForm.do?first=50&skip=0&ds_titulo=&co_autor=&no_autor=&co_categoria=&pagina=1&select_action=Submit&co_midia=3&co_obra=&co_idioma=1&colunaOrdenar=null&ordem=null\\'>Primeira</a>/Anterior] <b>1</b>, <a href=\\'ResultadoPesquisaObraForm.do?first=50&skip=50&ds_titulo=&co_autor=&no_autor=&co_categoria=&pagina=2&select_action=Submit&co_midia=3&co_obra=&co_idioma=1&colunaOrdenar=null&ordem=null\\'>2</a>, <a href=\\'ResultadoPesquisaObraForm.do?first=50&skip=100&ds_titulo=&co_autor=&no_autor=&co_categoria=&pagina=3&select_action=Submit&co_midia=3&co_obra=&co_idioma=1&colunaOrdenar=null&ordem=null\\'>3</a>, <a href=\\'ResultadoPesquisaObraForm.do?first=50&skip=150&ds_titulo=&co_autor=&no_autor=&co_categoria=&pagina=4&select_action=Submit&co_midia=3&co_obra=&co_idioma=1&colunaOrdenar=null&ordem=null\\'>4</a>, <a href=\\'ResultadoPesquisaObraForm.do?first=50&skip=200&ds_titulo=&co_autor=&no_autor=&co_categoria=&pagina=5&select_action=Submit&co_midia=3&co_obra=&co_idioma=1&colunaOrdenar=null&ordem=null\\'>5</a>, <a href=\\'ResultadoPesquisaObraForm.do?first=50&skip=250&ds_titulo=&co_autor=&no_autor=&co_categoria=&pagina=6&select_action=Submit&co_midia=3&co_obra=&co_idioma=1&colunaOrdenar=null&ordem=null\\'>6</a>, <a href=\\'ResultadoPesquisaObraForm.do?first=50&skip=300&ds_titulo=&co_autor=&no_autor=&co_categoria=&pagina=7&select_action=Submit&co_midia=3&co_obra=&co_idioma=1&colunaOrdenar=null&ordem=null\\'>7</a>, <a href=\\'ResultadoPesquisaObraForm.do?first=50&skip=350&ds_titulo=&co_autor=&no_autor=&co_categoria=&pagina=8&select_action=Submit&co_midia=3&co_obra=&co_idioma=1&colunaOrdenar=null&ordem=null\\'>8</a> [<a href=\\'ResultadoPesquisaObraForm.do?first=50&skip=50&ds_titulo=&co_autor=&no_autor=&co_categoria=&pagina=2&select_action=Submit&co_midia=3&co_obra=&co_idioma=1&colunaOrdenar=null&ordem=null\\'>Próximo</a>/<a href=\\'ResultadoPesquisaObraForm.do?first=36&skip=650&ds_titulo=&co_autor=&no_autor=&co_categoria=&pagina=14&select_action=Submit&co_midia=3&co_obra=&co_idioma=1&colunaOrdenar=null&ordem=null\\'>Última</a>]\\r\\n\\t\\t</span>\\t\\r\\n\\t\\t</center>\\t\\t\\t\\r\\n\\t</td>\\r\\n  </tr>\\r\\n</table>\\r\\n\\r\\n<br>\\r\\n<script src=\"//static00.mec.gov.br/barragoverno/barra.js\" type=\"text/javascript\"></script>\\r\\n</body>\\r\\n<script type=\"text/javascript\">\\n\\t\\tvar gaJsHost = ((\"https:\" == document.location.protocol) ? \"https://ssl.\" : \"http://www.\");\\n\\t\\tdocument.write(unescape(\"%3Cscript src=\\'\" + gaJsHost + \"google-analytics.com/ga.js\\' type=\\'text/javascript\\'%3E%3C/script%3E\"));\\n\\t</script>\\n\\t\\n\\t<script type=\"text/javascript\">\\n\\t\\ttry {\\n\\t\\tvar pageTracker = _gat._getTracker(\"UA-8511855-1\");\\n\\t\\tpageTracker._trackPageview();\\n\\t\\t} catch(err) {}\\n\\t</script>\\r\\n</html>\\r\\n'"
            ]
          },
          "metadata": {},
          "execution_count": 5
        }
      ]
    },
    {
      "cell_type": "code",
      "metadata": {
        "id": "idmzYmLRITXV"
      },
      "source": [
        "resultado = [] #definir lista\n",
        "import csv\n",
        "arquivo = open(\"links-obras-em-dominio-publico.csv\", mode=\"w\") #nomear documento e definir modo escrita\n",
        "escritor = csv.DictWriter(arquivo, fieldnames=[\"nome\" , \"link\"]) #definir nome das variáveis\n",
        "escritor.writeheader()\n",
        "for parte in partes:\n",
        "  subpartes = parte.split(\"\\' STYLE=\\'cursor:hand\\'> \") #separar caracteres que não fazem parte do código identificador da obra\n",
        "  conteudo = subpartes[0]\n",
        "  try: # como alguns resultados não eram linhas da tabela, colocar try para verificar se a string resultante pode ser transformada em número (int)                      \n",
        "    codigo_obra = int(conteudo.split(\"\\' STYLE=\\'cursor:hand\\'> \")[0])\n",
        "  except ValueError:\n",
        "    codigo_obra = None # atribuir None ao codigo_obra se der erro de valor ao tentar transformar em int\n",
        "  if codigo_obra: #se codigo_obra existe (não é None)\n",
        "    link = f\"http://www.dominiopublico.gov.br/pesquisa/DetalheObraForm.do?select_action=&co_obra={codigo_obra}\" # gerar o link\n",
        "    nome = parte.split(\"target=\\'_blank\\' STYLE=\\'cursor:hand\\'>\")[-1].split('</a>')[0].strip() # pegar o nome da obra \n",
        "    dicio = {'link': link, 'nome': nome} # gerar dicionário com nome e link da obra\n",
        "    resultado.append(dicio) #salvar dicionário na lista\n"
      ],
      "execution_count": null,
      "outputs": []
    },
    {
      "cell_type": "code",
      "metadata": {
        "colab": {
          "base_uri": "https://localhost:8080/"
        },
        "id": "IoP1skD0Jg1k",
        "outputId": "7f4cba5b-1141-459b-87ea-09659ff4576e"
      },
      "source": [
        "resultado[650] #verificar se o processo deu certo. Dentro dos parênteses é possível colocar qualquer número de dentro da lista para conferir o link da obra e o nome"
      ],
      "execution_count": null,
      "outputs": [
        {
          "output_type": "execute_result",
          "data": {
            "text/plain": [
              "{'link': 'http://www.dominiopublico.gov.br/pesquisa/DetalheObraForm.do?select_action=&co_obra=60611',\n",
              " 'nome': 'Tem esporte na jogada'}"
            ]
          },
          "metadata": {},
          "execution_count": 33
        }
      ]
    },
    {
      "cell_type": "code",
      "metadata": {
        "id": "thZ4ZarFKXc6"
      },
      "source": [
        "import csv\n",
        "arquivo = open(\"links-obras-em-dominio-publico.csv\", mode=\"w\")\n",
        "escritor = csv.DictWriter(arquivo, fieldnames=[\"nome\", \"link\"]) #nomear colunas\n",
        "escritor.writeheader()\n",
        "for elemento in resultado:\n",
        "  escritor.writerow(elemento)\n",
        "arquivo.close()"
      ],
      "execution_count": null,
      "outputs": []
    }
  ]
}